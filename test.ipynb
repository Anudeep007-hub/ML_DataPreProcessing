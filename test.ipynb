{
 "cells": [
  {
   "cell_type": "code",
   "execution_count": 145,
   "metadata": {},
   "outputs": [],
   "source": [
    "import pandas as pd\n",
    "import matplotlib.pyplot as plt\n",
    "import seaborn as sns\n",
    "import numpy as sns"
   ]
  },
  {
   "cell_type": "markdown",
   "metadata": {},
   "source": [
    "# Cleaning Yield dataset"
   ]
  },
  {
   "cell_type": "code",
   "execution_count": 146,
   "metadata": {},
   "outputs": [],
   "source": [
    "df = pd.read_csv(\"./Data/yield_data.csv\")"
   ]
  },
  {
   "cell_type": "code",
   "execution_count": 147,
   "metadata": {},
   "outputs": [
    {
     "name": "stdout",
     "output_type": "stream",
     "text": [
      "<class 'pandas.core.frame.DataFrame'>\n",
      "RangeIndex: 896 entries, 0 to 895\n",
      "Data columns (total 7 columns):\n",
      " #   Column                Non-Null Count  Dtype  \n",
      "---  ------                --------------  -----  \n",
      " 0   Crop                  896 non-null    object \n",
      " 1   District              896 non-null    object \n",
      " 2   Year                  896 non-null    object \n",
      " 3   Season                896 non-null    object \n",
      " 4   Area(Hectare)         896 non-null    int64  \n",
      " 5   Production(Tonne)     894 non-null    float64\n",
      " 6   Yield(Tonne/Hectare)  894 non-null    float64\n",
      "dtypes: float64(2), int64(1), object(4)\n",
      "memory usage: 49.1+ KB\n"
     ]
    }
   ],
   "source": [
    "df.info()"
   ]
  },
  {
   "cell_type": "code",
   "execution_count": 148,
   "metadata": {},
   "outputs": [
    {
     "name": "stdout",
     "output_type": "stream",
     "text": [
      "Crops: ['Bajra' 'Cotton' 'Groundnut' 'Maize' 'Ragi' 'Rice' 'Turmeric'\n",
      " 'Castor seed' 'Gram' 'Moong(Green Gram)' 'Safflower' 'Sunflower']-->Total:12\n",
      "\n",
      "\n",
      "Districts: ['Anantapur' 'Chittoor' 'East godavari' 'Guntur' 'Kadapa' 'Kurnool'\n",
      " 'Prakasam' 'Spsr nellore' 'Srikakulam' 'Visakhapatanam' 'Vizianagaram'\n",
      " 'Krishna' 'West godavari' ' Chittoor' ' Guntur' ' Krishna'\n",
      " ' Spsr nellore' ' Visakhapatanam' ' Vizianagaram' ' West godavari'\n",
      " ' Kurnool' ' Prakasam' ' Srikakulam']-->Total:23\n",
      "\n",
      "\n",
      "['2014 - 2015' '2015 - 2016' '2016 - 2017' '2017 - 2018' '2018 - 2019'\n",
      " '2019 - 2020' '2020 - 2021']-->Total:7\n",
      "\n",
      "\n",
      "Seasons: ['Kharif' 'Rabi']-->Total:2\n"
     ]
    }
   ],
   "source": [
    "print(f\"Crops: {df[\"Crop\"].unique()}-->Total:{df[\"Crop\"].nunique()}\\n\\n\\nDistricts: {df[\"District\"].unique()}-->Total:{df[\"District\"].nunique()}\\n\\n\\n{df[\"Year\"].unique()}-->Total:{df[\"Year\"].nunique()}\\n\\n\\nSeasons: {df[\"Season\"].unique()}-->Total:{df[\"Season\"].nunique()}\")"
   ]
  },
  {
   "cell_type": "markdown",
   "metadata": {},
   "source": [
    "### Removing the extra space in the districts column values"
   ]
  },
  {
   "cell_type": "code",
   "execution_count": 149,
   "metadata": {},
   "outputs": [],
   "source": [
    "## Considering the first year in the Year column\n",
    "df[\"Year\"] = df[\"Year\"].apply(lambda x: x.split(\"-\")[0]).astype(int)\n",
    "\n",
    "\n",
    "## Removing the extra spaces\n",
    "df = df.apply(lambda x: x.str.strip() if x.dtype == \"object\" else x)  ## removing the starting and tailing spaces\n",
    "df = df.apply(lambda x: x.str.replace(\" \", \"_\") if x.dtype == \"object\" else x)  ## Replacing the inbetween spaces with \"_\"\n",
    "df = df.apply(lambda x: x.str.lower() if x.dtype == \"object\" else x) ## Lowercasing the values in string typed columns"
   ]
  },
  {
   "cell_type": "code",
   "execution_count": 150,
   "metadata": {},
   "outputs": [
    {
     "name": "stdout",
     "output_type": "stream",
     "text": [
      "Crops: ['bajra' 'cotton' 'groundnut' 'maize' 'ragi' 'rice' 'turmeric'\n",
      " 'castor_seed' 'gram' 'moong(green_gram)' 'safflower' 'sunflower']-->Total:12\n",
      "\n",
      "\n",
      "Districts: ['anantapur' 'chittoor' 'east_godavari' 'guntur' 'kadapa' 'kurnool'\n",
      " 'prakasam' 'spsr_nellore' 'srikakulam' 'visakhapatanam' 'vizianagaram'\n",
      " 'krishna' 'west_godavari']-->Total:13\n",
      "\n",
      "\n",
      "[2014 2015 2016 2017 2018 2019 2020]-->Total:7\n",
      "\n",
      "\n",
      "Seasons: ['kharif' 'rabi']-->Total:2\n"
     ]
    }
   ],
   "source": [
    "print(f\"Crops: {df[\"Crop\"].unique()}-->Total:{df[\"Crop\"].nunique()}\\n\\n\\nDistricts: {df[\"District\"].unique()}-->Total:{df[\"District\"].nunique()}\\n\\n\\n{df[\"Year\"].unique()}-->Total:{df[\"Year\"].nunique()}\\n\\n\\nSeasons: {df[\"Season\"].unique()}-->Total:{df[\"Season\"].nunique()}\")"
   ]
  },
  {
   "cell_type": "code",
   "execution_count": 151,
   "metadata": {},
   "outputs": [
    {
     "name": "stdout",
     "output_type": "stream",
     "text": [
      "<class 'pandas.core.frame.DataFrame'>\n",
      "RangeIndex: 896 entries, 0 to 895\n",
      "Data columns (total 7 columns):\n",
      " #   Column                Non-Null Count  Dtype  \n",
      "---  ------                --------------  -----  \n",
      " 0   Crop                  896 non-null    object \n",
      " 1   District              896 non-null    object \n",
      " 2   Year                  896 non-null    int64  \n",
      " 3   Season                896 non-null    object \n",
      " 4   Area(Hectare)         896 non-null    int64  \n",
      " 5   Production(Tonne)     894 non-null    float64\n",
      " 6   Yield(Tonne/Hectare)  894 non-null    float64\n",
      "dtypes: float64(2), int64(2), object(3)\n",
      "memory usage: 49.1+ KB\n"
     ]
    }
   ],
   "source": [
    "df.info()"
   ]
  },
  {
   "cell_type": "markdown",
   "metadata": {},
   "source": [
    "#### Doing mean imputation for Production and Yield columns"
   ]
  },
  {
   "cell_type": "code",
   "execution_count": 152,
   "metadata": {},
   "outputs": [],
   "source": [
    "\n",
    "df[[\"Yield(Tonne/Hectare)\", \"Production(Tonne)\"]] = df[[\"Yield(Tonne/Hectare)\", \"Production(Tonne)\"]].fillna(df[[\"Yield(Tonne/Hectare)\", \"Production(Tonne)\"]].mean())"
   ]
  },
  {
   "cell_type": "code",
   "execution_count": 153,
   "metadata": {},
   "outputs": [
    {
     "name": "stdout",
     "output_type": "stream",
     "text": [
      "<class 'pandas.core.frame.DataFrame'>\n",
      "RangeIndex: 896 entries, 0 to 895\n",
      "Data columns (total 7 columns):\n",
      " #   Column                Non-Null Count  Dtype  \n",
      "---  ------                --------------  -----  \n",
      " 0   Crop                  896 non-null    object \n",
      " 1   District              896 non-null    object \n",
      " 2   Year                  896 non-null    int64  \n",
      " 3   Season                896 non-null    object \n",
      " 4   Area(Hectare)         896 non-null    int64  \n",
      " 5   Production(Tonne)     896 non-null    float64\n",
      " 6   Yield(Tonne/Hectare)  896 non-null    float64\n",
      "dtypes: float64(2), int64(2), object(3)\n",
      "memory usage: 49.1+ KB\n"
     ]
    }
   ],
   "source": [
    "df.info()"
   ]
  },
  {
   "cell_type": "code",
   "execution_count": null,
   "metadata": {},
   "outputs": [],
   "source": [
    "df.to_csv(\"CleanedData/cleaned_yield_data.csv\", index=False)"
   ]
  },
  {
   "cell_type": "markdown",
   "metadata": {},
   "source": [
    "# Cleaning ICRISAT-District dataset"
   ]
  },
  {
   "cell_type": "code",
   "execution_count": 238,
   "metadata": {},
   "outputs": [],
   "source": [
    "df = pd.read_csv(\"Data/ICRISAT-District_Level_Data_NCA.csv\") "
   ]
  },
  {
   "cell_type": "code",
   "execution_count": 239,
   "metadata": {},
   "outputs": [
    {
     "name": "stdout",
     "output_type": "stream",
     "text": [
      "<class 'pandas.core.frame.DataFrame'>\n",
      "RangeIndex: 77 entries, 0 to 76\n",
      "Data columns (total 6 columns):\n",
      " #   Column                      Non-Null Count  Dtype  \n",
      "---  ------                      --------------  -----  \n",
      " 0   Dist_Code                   77 non-null     int64  \n",
      " 1   Year                        77 non-null     int64  \n",
      " 2   State_Code                  77 non-null     int64  \n",
      " 3   State_Name                  77 non-null     object \n",
      " 4   Dist_Name                   77 non-null     object \n",
      " 5   Fertilizer(KG_per_hectare)  77 non-null     float64\n",
      "dtypes: float64(1), int64(3), object(2)\n",
      "memory usage: 3.7+ KB\n"
     ]
    }
   ],
   "source": [
    "df.info()"
   ]
  },
  {
   "cell_type": "markdown",
   "metadata": {},
   "source": [
    "#### It does not have any null values, so I am just renaming the column names matches with the yield_dataset"
   ]
  },
  {
   "cell_type": "code",
   "execution_count": 240,
   "metadata": {},
   "outputs": [],
   "source": [
    "df.rename(columns={\"Dist_Name\":\"District\"}, inplace=True)"
   ]
  },
  {
   "cell_type": "code",
   "execution_count": 241,
   "metadata": {},
   "outputs": [
    {
     "data": {
      "text/html": [
       "<div>\n",
       "<style scoped>\n",
       "    .dataframe tbody tr th:only-of-type {\n",
       "        vertical-align: middle;\n",
       "    }\n",
       "\n",
       "    .dataframe tbody tr th {\n",
       "        vertical-align: top;\n",
       "    }\n",
       "\n",
       "    .dataframe thead th {\n",
       "        text-align: right;\n",
       "    }\n",
       "</style>\n",
       "<table border=\"1\" class=\"dataframe\">\n",
       "  <thead>\n",
       "    <tr style=\"text-align: right;\">\n",
       "      <th></th>\n",
       "      <th>Dist_Code</th>\n",
       "      <th>Year</th>\n",
       "      <th>State_Code</th>\n",
       "      <th>State_Name</th>\n",
       "      <th>District</th>\n",
       "      <th>Fertilizer(KG_per_hectare)</th>\n",
       "    </tr>\n",
       "  </thead>\n",
       "  <tbody>\n",
       "    <tr>\n",
       "      <th>0</th>\n",
       "      <td>44</td>\n",
       "      <td>2014</td>\n",
       "      <td>1</td>\n",
       "      <td>Andhra Pradesh</td>\n",
       "      <td>Srikakulam</td>\n",
       "      <td>183.22</td>\n",
       "    </tr>\n",
       "    <tr>\n",
       "      <th>1</th>\n",
       "      <td>44</td>\n",
       "      <td>2015</td>\n",
       "      <td>1</td>\n",
       "      <td>Andhra Pradesh</td>\n",
       "      <td>Srikakulam</td>\n",
       "      <td>167.77</td>\n",
       "    </tr>\n",
       "    <tr>\n",
       "      <th>2</th>\n",
       "      <td>44</td>\n",
       "      <td>2016</td>\n",
       "      <td>1</td>\n",
       "      <td>Andhra Pradesh</td>\n",
       "      <td>Srikakulam</td>\n",
       "      <td>168.19</td>\n",
       "    </tr>\n",
       "    <tr>\n",
       "      <th>3</th>\n",
       "      <td>44</td>\n",
       "      <td>2017</td>\n",
       "      <td>1</td>\n",
       "      <td>Andhra Pradesh</td>\n",
       "      <td>Srikakulam</td>\n",
       "      <td>174.21</td>\n",
       "    </tr>\n",
       "    <tr>\n",
       "      <th>4</th>\n",
       "      <td>44</td>\n",
       "      <td>2018</td>\n",
       "      <td>1</td>\n",
       "      <td>Andhra Pradesh</td>\n",
       "      <td>Srikakulam</td>\n",
       "      <td>187.29</td>\n",
       "    </tr>\n",
       "  </tbody>\n",
       "</table>\n",
       "</div>"
      ],
      "text/plain": [
       "   Dist_Code  Year  State_Code      State_Name    District  \\\n",
       "0         44  2014           1  Andhra Pradesh  Srikakulam   \n",
       "1         44  2015           1  Andhra Pradesh  Srikakulam   \n",
       "2         44  2016           1  Andhra Pradesh  Srikakulam   \n",
       "3         44  2017           1  Andhra Pradesh  Srikakulam   \n",
       "4         44  2018           1  Andhra Pradesh  Srikakulam   \n",
       "\n",
       "   Fertilizer(KG_per_hectare)  \n",
       "0                      183.22  \n",
       "1                      167.77  \n",
       "2                      168.19  \n",
       "3                      174.21  \n",
       "4                      187.29  "
      ]
     },
     "execution_count": 241,
     "metadata": {},
     "output_type": "execute_result"
    }
   ],
   "source": [
    "df.head()"
   ]
  },
  {
   "cell_type": "code",
   "execution_count": 242,
   "metadata": {},
   "outputs": [
    {
     "data": {
      "text/plain": [
       "array(['Srikakulam', 'Visakhapatnam', 'East Godavari', 'West Godavari',\n",
       "       'Krishna', 'Guntur', 'S.P.S. Nellore', 'Kurnool', 'Ananthapur',\n",
       "       'Kadapa YSR', 'Chittoor'], dtype=object)"
      ]
     },
     "execution_count": 242,
     "metadata": {},
     "output_type": "execute_result"
    }
   ],
   "source": [
    "df[\"District\"].unique()"
   ]
  },
  {
   "cell_type": "code",
   "execution_count": 243,
   "metadata": {},
   "outputs": [
    {
     "data": {
      "text/plain": [
       "11"
      ]
     },
     "execution_count": 243,
     "metadata": {},
     "output_type": "execute_result"
    }
   ],
   "source": [
    "df[\"District\"].nunique()"
   ]
  },
  {
   "cell_type": "code",
   "execution_count": 244,
   "metadata": {},
   "outputs": [],
   "source": [
    "df_yield = pd.read_csv(\"CleanedData/clean_yield_data.csv\")"
   ]
  },
  {
   "cell_type": "code",
   "execution_count": 245,
   "metadata": {},
   "outputs": [
    {
     "data": {
      "text/plain": [
       "array(['anantapur', 'chittoor', 'east_godavari', 'guntur', 'kadapa',\n",
       "       'kurnool', 'prakasam', 'spsr_nellore', 'srikakulam',\n",
       "       'visakhapatanam', 'vizianagaram', 'krishna', 'west_godavari'],\n",
       "      dtype=object)"
      ]
     },
     "execution_count": 245,
     "metadata": {},
     "output_type": "execute_result"
    }
   ],
   "source": [
    "df_yield[\"District\"].unique()"
   ]
  },
  {
   "cell_type": "code",
   "execution_count": 246,
   "metadata": {},
   "outputs": [
    {
     "data": {
      "text/plain": [
       "array(['Srikakulam', 'Visakhapatnam', 'East Godavari', 'West Godavari',\n",
       "       'Krishna', 'Guntur', 'S.P.S. Nellore', 'Kurnool', 'Ananthapur',\n",
       "       'Kadapa YSR', 'Chittoor'], dtype=object)"
      ]
     },
     "execution_count": 246,
     "metadata": {},
     "output_type": "execute_result"
    }
   ],
   "source": [
    "df[\"District\"].unique()"
   ]
  },
  {
   "cell_type": "code",
   "execution_count": 247,
   "metadata": {},
   "outputs": [],
   "source": [
    "## Renaming the values in district column\n",
    "\n",
    "df[\"District\"] = df[\"District\"].replace({\"Srikakulam\":\"srikakulam\", \"Visakhapatnam\":\"visakhapatanam\", \"East Godavari\":\"east_godavari\", \"West Godavari\":\"west_godavari\", \"Krishna\":\"krishna\",\n",
    "                   \"Guntur\":\"guntur\", \"S.P.S. Nellore\":\"spsr_nellore\", \"Kurnool\":\"kurnool\", \"Ananthapur\":\"anantapur\", \"Kadapa YSR\":\"kadapa\", \"Chittoor\":\"chittoor\"})"
   ]
  },
  {
   "cell_type": "code",
   "execution_count": 248,
   "metadata": {},
   "outputs": [
    {
     "data": {
      "text/plain": [
       "array(['srikakulam', 'visakhapatanam', 'east_godavari', 'west_godavari',\n",
       "       'krishna', 'guntur', 'spsr_nellore', 'kurnool', 'anantapur',\n",
       "       'kadapa', 'chittoor'], dtype=object)"
      ]
     },
     "execution_count": 248,
     "metadata": {},
     "output_type": "execute_result"
    }
   ],
   "source": [
    "df[\"District\"].unique()"
   ]
  },
  {
   "cell_type": "code",
   "execution_count": 249,
   "metadata": {},
   "outputs": [
    {
     "data": {
      "text/html": [
       "<div>\n",
       "<style scoped>\n",
       "    .dataframe tbody tr th:only-of-type {\n",
       "        vertical-align: middle;\n",
       "    }\n",
       "\n",
       "    .dataframe tbody tr th {\n",
       "        vertical-align: top;\n",
       "    }\n",
       "\n",
       "    .dataframe thead th {\n",
       "        text-align: right;\n",
       "    }\n",
       "</style>\n",
       "<table border=\"1\" class=\"dataframe\">\n",
       "  <thead>\n",
       "    <tr style=\"text-align: right;\">\n",
       "      <th></th>\n",
       "      <th>Dist_Code</th>\n",
       "      <th>Year</th>\n",
       "      <th>State_Code</th>\n",
       "      <th>State_Name</th>\n",
       "      <th>District</th>\n",
       "      <th>Fertilizer(KG_per_hectare)</th>\n",
       "    </tr>\n",
       "  </thead>\n",
       "  <tbody>\n",
       "    <tr>\n",
       "      <th>0</th>\n",
       "      <td>44</td>\n",
       "      <td>2014</td>\n",
       "      <td>1</td>\n",
       "      <td>Andhra Pradesh</td>\n",
       "      <td>srikakulam</td>\n",
       "      <td>183.22</td>\n",
       "    </tr>\n",
       "    <tr>\n",
       "      <th>1</th>\n",
       "      <td>44</td>\n",
       "      <td>2015</td>\n",
       "      <td>1</td>\n",
       "      <td>Andhra Pradesh</td>\n",
       "      <td>srikakulam</td>\n",
       "      <td>167.77</td>\n",
       "    </tr>\n",
       "    <tr>\n",
       "      <th>2</th>\n",
       "      <td>44</td>\n",
       "      <td>2016</td>\n",
       "      <td>1</td>\n",
       "      <td>Andhra Pradesh</td>\n",
       "      <td>srikakulam</td>\n",
       "      <td>168.19</td>\n",
       "    </tr>\n",
       "    <tr>\n",
       "      <th>3</th>\n",
       "      <td>44</td>\n",
       "      <td>2017</td>\n",
       "      <td>1</td>\n",
       "      <td>Andhra Pradesh</td>\n",
       "      <td>srikakulam</td>\n",
       "      <td>174.21</td>\n",
       "    </tr>\n",
       "    <tr>\n",
       "      <th>4</th>\n",
       "      <td>44</td>\n",
       "      <td>2018</td>\n",
       "      <td>1</td>\n",
       "      <td>Andhra Pradesh</td>\n",
       "      <td>srikakulam</td>\n",
       "      <td>187.29</td>\n",
       "    </tr>\n",
       "  </tbody>\n",
       "</table>\n",
       "</div>"
      ],
      "text/plain": [
       "   Dist_Code  Year  State_Code      State_Name    District  \\\n",
       "0         44  2014           1  Andhra Pradesh  srikakulam   \n",
       "1         44  2015           1  Andhra Pradesh  srikakulam   \n",
       "2         44  2016           1  Andhra Pradesh  srikakulam   \n",
       "3         44  2017           1  Andhra Pradesh  srikakulam   \n",
       "4         44  2018           1  Andhra Pradesh  srikakulam   \n",
       "\n",
       "   Fertilizer(KG_per_hectare)  \n",
       "0                      183.22  \n",
       "1                      167.77  \n",
       "2                      168.19  \n",
       "3                      174.21  \n",
       "4                      187.29  "
      ]
     },
     "execution_count": 249,
     "metadata": {},
     "output_type": "execute_result"
    }
   ],
   "source": [
    "df.head()"
   ]
  },
  {
   "cell_type": "code",
   "execution_count": 250,
   "metadata": {},
   "outputs": [],
   "source": [
    "df.to_csv(\"CleanedData/cleaned_ICRISAT_Fertilizers_dataset.csv\", index=False)"
   ]
  },
  {
   "cell_type": "markdown",
   "metadata": {},
   "source": [
    "# Cleaning Annual temperature dataset"
   ]
  },
  {
   "cell_type": "code",
   "execution_count": 329,
   "metadata": {},
   "outputs": [],
   "source": [
    "df = pd.read_csv(\"Data/annual_temp_complete_new.csv\") "
   ]
  },
  {
   "cell_type": "code",
   "execution_count": 330,
   "metadata": {},
   "outputs": [
    {
     "data": {
      "text/html": [
       "<div>\n",
       "<style scoped>\n",
       "    .dataframe tbody tr th:only-of-type {\n",
       "        vertical-align: middle;\n",
       "    }\n",
       "\n",
       "    .dataframe tbody tr th {\n",
       "        vertical-align: top;\n",
       "    }\n",
       "\n",
       "    .dataframe thead th {\n",
       "        text-align: right;\n",
       "    }\n",
       "</style>\n",
       "<table border=\"1\" class=\"dataframe\">\n",
       "  <thead>\n",
       "    <tr style=\"text-align: right;\">\n",
       "      <th></th>\n",
       "      <th>District</th>\n",
       "      <th>Year</th>\n",
       "      <th>Annual_Temp</th>\n",
       "    </tr>\n",
       "  </thead>\n",
       "  <tbody>\n",
       "    <tr>\n",
       "      <th>0</th>\n",
       "      <td>Srikakulam</td>\n",
       "      <td>2014</td>\n",
       "      <td>29.500000</td>\n",
       "    </tr>\n",
       "    <tr>\n",
       "      <th>1</th>\n",
       "      <td>Srikakulam</td>\n",
       "      <td>2015</td>\n",
       "      <td>30.750000</td>\n",
       "    </tr>\n",
       "    <tr>\n",
       "      <th>2</th>\n",
       "      <td>Srikakulam</td>\n",
       "      <td>2016</td>\n",
       "      <td>30.928571</td>\n",
       "    </tr>\n",
       "    <tr>\n",
       "      <th>3</th>\n",
       "      <td>Srikakulam</td>\n",
       "      <td>2017</td>\n",
       "      <td>30.552632</td>\n",
       "    </tr>\n",
       "    <tr>\n",
       "      <th>4</th>\n",
       "      <td>Srikakulam</td>\n",
       "      <td>2018</td>\n",
       "      <td>30.776596</td>\n",
       "    </tr>\n",
       "  </tbody>\n",
       "</table>\n",
       "</div>"
      ],
      "text/plain": [
       "     District  Year  Annual_Temp \n",
       "0  Srikakulam  2014     29.500000\n",
       "1  Srikakulam  2015     30.750000\n",
       "2  Srikakulam  2016     30.928571\n",
       "3  Srikakulam  2017     30.552632\n",
       "4  Srikakulam  2018     30.776596"
      ]
     },
     "execution_count": 330,
     "metadata": {},
     "output_type": "execute_result"
    }
   ],
   "source": [
    "df.head()"
   ]
  },
  {
   "cell_type": "code",
   "execution_count": 331,
   "metadata": {},
   "outputs": [
    {
     "data": {
      "text/plain": [
       "array(['Srikakulam', 'Vizianagaram', 'Visakhapatanam', 'East godavari',\n",
       "       'West godavari', 'Krishna', 'Guntur', 'Prakasam', 'SPSR Nellore',\n",
       "       'Chittoor', 'Kadapa', 'Kurnool', 'Anantapur'], dtype=object)"
      ]
     },
     "execution_count": 331,
     "metadata": {},
     "output_type": "execute_result"
    }
   ],
   "source": [
    "df[\"District\"].unique()"
   ]
  },
  {
   "cell_type": "code",
   "execution_count": null,
   "metadata": {},
   "outputs": [],
   "source": [
    "df.columns = df.columns.str.strip() ## Removing the tailing spaces\n",
    "df[\"District\"] = df[\"District\"].replace({\"Srikakulam\":\"srikakulam\", \"Vizianagaram\":\"vizianagaram\", \"Visakhapatanam\":\"visakhapatanam\", \"East Godavari\":\"east_godavari\", \n",
    "                                        \"East godavari\":\"east_godavari\", \"West Godavari\":\"west_godavari\",\"West godavari\":\"west_godavari\" ,\"Krishna\":\"krishna\",\n",
    "                   \"Guntur\":\"guntur\",\"Prakasam\":\"prakasam\", \"SPSR Nellore\":\"spsr_nellore\", \"Kurnool\":\"kurnool\", \"Anantapur\":\"anantapur\", \"Kadapa\":\"kadapa\", \"Chittoor\":\"chittoor\", \"Anantapur\":\"anantapur\"}) \n",
    "\n"
   ]
  },
  {
   "cell_type": "code",
   "execution_count": null,
   "metadata": {},
   "outputs": [],
   "source": [
    "df[\"Annual_Temp\"] = df[\"Annual_Temp\"].round(2) ## roundig off the annual temperature values "
   ]
  },
  {
   "cell_type": "code",
   "execution_count": 335,
   "metadata": {},
   "outputs": [
    {
     "name": "stdout",
     "output_type": "stream",
     "text": [
      "<class 'pandas.core.frame.DataFrame'>\n",
      "RangeIndex: 91 entries, 0 to 90\n",
      "Data columns (total 3 columns):\n",
      " #   Column       Non-Null Count  Dtype  \n",
      "---  ------       --------------  -----  \n",
      " 0   District     91 non-null     object \n",
      " 1   Year         91 non-null     int64  \n",
      " 2   Annual_Temp  91 non-null     float64\n",
      "dtypes: float64(1), int64(1), object(1)\n",
      "memory usage: 2.3+ KB\n"
     ]
    }
   ],
   "source": [
    "df.info()"
   ]
  },
  {
   "cell_type": "code",
   "execution_count": 336,
   "metadata": {},
   "outputs": [
    {
     "data": {
      "text/plain": [
       "array(['srikakulam', 'vizianagaram', 'visakhapatanam', 'east_godavari',\n",
       "       'west_godavari', 'krishna', 'guntur', 'prakasam', 'spsr_nellore',\n",
       "       'chittoor', 'kadapa', 'kurnool', 'anantapur'], dtype=object)"
      ]
     },
     "execution_count": 336,
     "metadata": {},
     "output_type": "execute_result"
    }
   ],
   "source": [
    "df[\"District\"].unique()"
   ]
  },
  {
   "cell_type": "code",
   "execution_count": 337,
   "metadata": {},
   "outputs": [],
   "source": [
    "df.to_csv(\"CleanedData/cleaned_AnnualTemparature.csv\", index=False)"
   ]
  },
  {
   "cell_type": "markdown",
   "metadata": {},
   "source": [
    "# Cleaning the rainfall dataset"
   ]
  },
  {
   "cell_type": "code",
   "execution_count": 327,
   "metadata": {},
   "outputs": [],
   "source": [
    "df = pd.read_csv(\"Data/annual_rainfall.csv\")"
   ]
  },
  {
   "cell_type": "code",
   "execution_count": 328,
   "metadata": {},
   "outputs": [
    {
     "data": {
      "text/html": [
       "<div>\n",
       "<style scoped>\n",
       "    .dataframe tbody tr th:only-of-type {\n",
       "        vertical-align: middle;\n",
       "    }\n",
       "\n",
       "    .dataframe tbody tr th {\n",
       "        vertical-align: top;\n",
       "    }\n",
       "\n",
       "    .dataframe thead th {\n",
       "        text-align: right;\n",
       "    }\n",
       "</style>\n",
       "<table border=\"1\" class=\"dataframe\">\n",
       "  <thead>\n",
       "    <tr style=\"text-align: right;\">\n",
       "      <th></th>\n",
       "      <th>Dist Code</th>\n",
       "      <th>Year</th>\n",
       "      <th>State Code</th>\n",
       "      <th>State Name</th>\n",
       "      <th>Dist Name</th>\n",
       "      <th>ANNUAL_RAINFALL(Millimeters)</th>\n",
       "    </tr>\n",
       "  </thead>\n",
       "  <tbody>\n",
       "    <tr>\n",
       "      <th>0</th>\n",
       "      <td>44</td>\n",
       "      <td>2014</td>\n",
       "      <td>1</td>\n",
       "      <td>Andhra Pradesh</td>\n",
       "      <td>Srikakulam</td>\n",
       "      <td>803.0</td>\n",
       "    </tr>\n",
       "    <tr>\n",
       "      <th>1</th>\n",
       "      <td>44</td>\n",
       "      <td>2015</td>\n",
       "      <td>1</td>\n",
       "      <td>Andhra Pradesh</td>\n",
       "      <td>Srikakulam</td>\n",
       "      <td>1621.7</td>\n",
       "    </tr>\n",
       "    <tr>\n",
       "      <th>2</th>\n",
       "      <td>44</td>\n",
       "      <td>2016</td>\n",
       "      <td>1</td>\n",
       "      <td>Andhra Pradesh</td>\n",
       "      <td>Srikakulam</td>\n",
       "      <td>934.6</td>\n",
       "    </tr>\n",
       "    <tr>\n",
       "      <th>3</th>\n",
       "      <td>44</td>\n",
       "      <td>2017</td>\n",
       "      <td>1</td>\n",
       "      <td>Andhra Pradesh</td>\n",
       "      <td>Srikakulam</td>\n",
       "      <td>1289.2</td>\n",
       "    </tr>\n",
       "    <tr>\n",
       "      <th>4</th>\n",
       "      <td>44</td>\n",
       "      <td>2018</td>\n",
       "      <td>1</td>\n",
       "      <td>Andhra Pradesh</td>\n",
       "      <td>Srikakulam</td>\n",
       "      <td>1421.9</td>\n",
       "    </tr>\n",
       "  </tbody>\n",
       "</table>\n",
       "</div>"
      ],
      "text/plain": [
       "   Dist Code  Year  State Code      State Name   Dist Name  \\\n",
       "0         44  2014           1  Andhra Pradesh  Srikakulam   \n",
       "1         44  2015           1  Andhra Pradesh  Srikakulam   \n",
       "2         44  2016           1  Andhra Pradesh  Srikakulam   \n",
       "3         44  2017           1  Andhra Pradesh  Srikakulam   \n",
       "4         44  2018           1  Andhra Pradesh  Srikakulam   \n",
       "\n",
       "   ANNUAL_RAINFALL(Millimeters)  \n",
       "0                         803.0  \n",
       "1                        1621.7  \n",
       "2                         934.6  \n",
       "3                        1289.2  \n",
       "4                        1421.9  "
      ]
     },
     "execution_count": 328,
     "metadata": {},
     "output_type": "execute_result"
    }
   ],
   "source": [
    "df.head()\n"
   ]
  },
  {
   "cell_type": "code",
   "execution_count": 294,
   "metadata": {},
   "outputs": [
    {
     "name": "stdout",
     "output_type": "stream",
     "text": [
      "<class 'pandas.core.frame.DataFrame'>\n",
      "RangeIndex: 77 entries, 0 to 76\n",
      "Data columns (total 6 columns):\n",
      " #   Column                        Non-Null Count  Dtype  \n",
      "---  ------                        --------------  -----  \n",
      " 0   Dist Code                     77 non-null     int64  \n",
      " 1   Year                          77 non-null     int64  \n",
      " 2   State Code                    77 non-null     int64  \n",
      " 3   State Name                    77 non-null     object \n",
      " 4   Dist Name                     77 non-null     object \n",
      " 5   ANNUAL_RAINFALL(Millimeters)  77 non-null     float64\n",
      "dtypes: float64(1), int64(3), object(2)\n",
      "memory usage: 3.7+ KB\n"
     ]
    }
   ],
   "source": [
    "df.info()"
   ]
  },
  {
   "cell_type": "code",
   "execution_count": 296,
   "metadata": {},
   "outputs": [],
   "source": [
    "df.rename(columns={\"Dist Name\": \"District\"}, inplace=True)"
   ]
  },
  {
   "cell_type": "code",
   "execution_count": 299,
   "metadata": {},
   "outputs": [
    {
     "data": {
      "text/plain": [
       "array(['Srikakulam', 'Visakhapatnam', 'East Godavari', 'West Godavari',\n",
       "       'Krishna', 'Guntur', 'S.P.S. Nellore', 'Kurnool', 'Ananthapur',\n",
       "       'Kadapa YSR', 'Chittoor'], dtype=object)"
      ]
     },
     "execution_count": 299,
     "metadata": {},
     "output_type": "execute_result"
    }
   ],
   "source": [
    "df[\"District\"].unique()"
   ]
  },
  {
   "cell_type": "code",
   "execution_count": 304,
   "metadata": {},
   "outputs": [],
   "source": [
    "\n",
    "df[\"District\"] = df[\"District\"].replace({\"Srikakulam\":\"srikakulam\", \"Visakhapatnam\":\"visakhapatanam\", \"East Godavari\":\"east_godavari\", \n",
    "                                        \"East godavari\":\"east_godavari\", \"West Godavari\":\"west_godavari\",\"Krishna\":\"krishna\",\n",
    "                   \"Guntur\":\"guntur\", \"S.P.S. Nellore\":\"spsr_nellore\", \"Kurnool\":\"kurnool\", \"Ananthapur\":\"anantapur\", \"Kadapa YSR\":\"kadapa\", \"Chittoor\":\"chittoor\"})"
   ]
  },
  {
   "cell_type": "code",
   "execution_count": 305,
   "metadata": {},
   "outputs": [
    {
     "data": {
      "text/plain": [
       "array(['srikakulam', 'visakhapatanam', 'east_godavari', 'west_godavari',\n",
       "       'krishna', 'guntur', 'spsr_nellore', 'kurnool', 'anantapur',\n",
       "       'kadapa', 'chittoor'], dtype=object)"
      ]
     },
     "execution_count": 305,
     "metadata": {},
     "output_type": "execute_result"
    }
   ],
   "source": [
    "df[\"District\"].unique()         "
   ]
  },
  {
   "cell_type": "code",
   "execution_count": 308,
   "metadata": {},
   "outputs": [],
   "source": [
    "df.to_csv(\"CleanedData/cleaned_annual_rainfall.csv\", index=False)"
   ]
  },
  {
   "cell_type": "markdown",
   "metadata": {},
   "source": [
    "# Combining the dataset"
   ]
  },
  {
   "cell_type": "code",
   "execution_count": 338,
   "metadata": {},
   "outputs": [],
   "source": [
    "df_backbone = pd.read_csv(\"CleanedData/clean_yield_data.csv\")\n",
    "df_temp = pd.read_csv(\"CleanedData/cleaned_AnnualTemparature.csv\")\n",
    "df_fertilizer = pd.read_csv(\"CleanedData/cleaned_ICRISAT_Fertilizers_dataset.csv\")\n",
    "df_rainfall = pd.read_csv(\"CleanedData/cleaned_annual_rainfall.csv\")\n"
   ]
  },
  {
   "cell_type": "code",
   "execution_count": 339,
   "metadata": {},
   "outputs": [
    {
     "name": "stdout",
     "output_type": "stream",
     "text": [
      "<class 'pandas.core.frame.DataFrame'>\n",
      "RangeIndex: 896 entries, 0 to 895\n",
      "Data columns (total 7 columns):\n",
      " #   Column                Non-Null Count  Dtype  \n",
      "---  ------                --------------  -----  \n",
      " 0   Crop                  896 non-null    object \n",
      " 1   District              896 non-null    object \n",
      " 2   Year                  896 non-null    int64  \n",
      " 3   Season                896 non-null    object \n",
      " 4   Area(Hectare)         896 non-null    int64  \n",
      " 5   Production(Tonne)     896 non-null    float64\n",
      " 6   Yield(Tonne/Hectare)  896 non-null    float64\n",
      "dtypes: float64(2), int64(2), object(3)\n",
      "memory usage: 49.1+ KB\n"
     ]
    }
   ],
   "source": [
    "df_backbone.info()"
   ]
  },
  {
   "cell_type": "code",
   "execution_count": 340,
   "metadata": {},
   "outputs": [
    {
     "data": {
      "text/html": [
       "<div>\n",
       "<style scoped>\n",
       "    .dataframe tbody tr th:only-of-type {\n",
       "        vertical-align: middle;\n",
       "    }\n",
       "\n",
       "    .dataframe tbody tr th {\n",
       "        vertical-align: top;\n",
       "    }\n",
       "\n",
       "    .dataframe thead th {\n",
       "        text-align: right;\n",
       "    }\n",
       "</style>\n",
       "<table border=\"1\" class=\"dataframe\">\n",
       "  <thead>\n",
       "    <tr style=\"text-align: right;\">\n",
       "      <th></th>\n",
       "      <th>Crop</th>\n",
       "      <th>District</th>\n",
       "      <th>Year</th>\n",
       "      <th>Season</th>\n",
       "      <th>Area(Hectare)</th>\n",
       "      <th>Production(Tonne)</th>\n",
       "      <th>Yield(Tonne/Hectare)</th>\n",
       "    </tr>\n",
       "  </thead>\n",
       "  <tbody>\n",
       "    <tr>\n",
       "      <th>0</th>\n",
       "      <td>bajra</td>\n",
       "      <td>anantapur</td>\n",
       "      <td>2014</td>\n",
       "      <td>kharif</td>\n",
       "      <td>1752</td>\n",
       "      <td>1028.0</td>\n",
       "      <td>0.59</td>\n",
       "    </tr>\n",
       "    <tr>\n",
       "      <th>1</th>\n",
       "      <td>bajra</td>\n",
       "      <td>anantapur</td>\n",
       "      <td>2015</td>\n",
       "      <td>kharif</td>\n",
       "      <td>3226</td>\n",
       "      <td>3326.0</td>\n",
       "      <td>1.03</td>\n",
       "    </tr>\n",
       "    <tr>\n",
       "      <th>2</th>\n",
       "      <td>bajra</td>\n",
       "      <td>anantapur</td>\n",
       "      <td>2016</td>\n",
       "      <td>kharif</td>\n",
       "      <td>2467</td>\n",
       "      <td>1258.0</td>\n",
       "      <td>0.51</td>\n",
       "    </tr>\n",
       "    <tr>\n",
       "      <th>3</th>\n",
       "      <td>bajra</td>\n",
       "      <td>anantapur</td>\n",
       "      <td>2017</td>\n",
       "      <td>kharif</td>\n",
       "      <td>5261</td>\n",
       "      <td>7034.0</td>\n",
       "      <td>1.34</td>\n",
       "    </tr>\n",
       "    <tr>\n",
       "      <th>4</th>\n",
       "      <td>bajra</td>\n",
       "      <td>anantapur</td>\n",
       "      <td>2018</td>\n",
       "      <td>kharif</td>\n",
       "      <td>2979</td>\n",
       "      <td>3447.0</td>\n",
       "      <td>1.16</td>\n",
       "    </tr>\n",
       "  </tbody>\n",
       "</table>\n",
       "</div>"
      ],
      "text/plain": [
       "    Crop   District  Year  Season  Area(Hectare)  Production(Tonne)  \\\n",
       "0  bajra  anantapur  2014  kharif           1752             1028.0   \n",
       "1  bajra  anantapur  2015  kharif           3226             3326.0   \n",
       "2  bajra  anantapur  2016  kharif           2467             1258.0   \n",
       "3  bajra  anantapur  2017  kharif           5261             7034.0   \n",
       "4  bajra  anantapur  2018  kharif           2979             3447.0   \n",
       "\n",
       "   Yield(Tonne/Hectare)  \n",
       "0                  0.59  \n",
       "1                  1.03  \n",
       "2                  0.51  \n",
       "3                  1.34  \n",
       "4                  1.16  "
      ]
     },
     "execution_count": 340,
     "metadata": {},
     "output_type": "execute_result"
    }
   ],
   "source": [
    "df_backbone.head()"
   ]
  },
  {
   "cell_type": "code",
   "execution_count": 341,
   "metadata": {},
   "outputs": [
    {
     "data": {
      "text/html": [
       "<div>\n",
       "<style scoped>\n",
       "    .dataframe tbody tr th:only-of-type {\n",
       "        vertical-align: middle;\n",
       "    }\n",
       "\n",
       "    .dataframe tbody tr th {\n",
       "        vertical-align: top;\n",
       "    }\n",
       "\n",
       "    .dataframe thead th {\n",
       "        text-align: right;\n",
       "    }\n",
       "</style>\n",
       "<table border=\"1\" class=\"dataframe\">\n",
       "  <thead>\n",
       "    <tr style=\"text-align: right;\">\n",
       "      <th></th>\n",
       "      <th>District</th>\n",
       "      <th>Year</th>\n",
       "      <th>Annual_Temp</th>\n",
       "    </tr>\n",
       "  </thead>\n",
       "  <tbody>\n",
       "    <tr>\n",
       "      <th>0</th>\n",
       "      <td>srikakulam</td>\n",
       "      <td>2014</td>\n",
       "      <td>29.50</td>\n",
       "    </tr>\n",
       "    <tr>\n",
       "      <th>1</th>\n",
       "      <td>srikakulam</td>\n",
       "      <td>2015</td>\n",
       "      <td>30.75</td>\n",
       "    </tr>\n",
       "    <tr>\n",
       "      <th>2</th>\n",
       "      <td>srikakulam</td>\n",
       "      <td>2016</td>\n",
       "      <td>30.93</td>\n",
       "    </tr>\n",
       "    <tr>\n",
       "      <th>3</th>\n",
       "      <td>srikakulam</td>\n",
       "      <td>2017</td>\n",
       "      <td>30.55</td>\n",
       "    </tr>\n",
       "    <tr>\n",
       "      <th>4</th>\n",
       "      <td>srikakulam</td>\n",
       "      <td>2018</td>\n",
       "      <td>30.78</td>\n",
       "    </tr>\n",
       "  </tbody>\n",
       "</table>\n",
       "</div>"
      ],
      "text/plain": [
       "     District  Year  Annual_Temp\n",
       "0  srikakulam  2014        29.50\n",
       "1  srikakulam  2015        30.75\n",
       "2  srikakulam  2016        30.93\n",
       "3  srikakulam  2017        30.55\n",
       "4  srikakulam  2018        30.78"
      ]
     },
     "execution_count": 341,
     "metadata": {},
     "output_type": "execute_result"
    }
   ],
   "source": [
    "df_temp.head()"
   ]
  },
  {
   "cell_type": "code",
   "execution_count": 342,
   "metadata": {},
   "outputs": [
    {
     "data": {
      "text/plain": [
       "set()"
      ]
     },
     "execution_count": 342,
     "metadata": {},
     "output_type": "execute_result"
    }
   ],
   "source": [
    "set(df_backbone[\"District\"].values) - set(df_temp[\"District\"].values)"
   ]
  },
  {
   "cell_type": "code",
   "execution_count": 343,
   "metadata": {},
   "outputs": [
    {
     "data": {
      "text/plain": [
       "set()"
      ]
     },
     "execution_count": 343,
     "metadata": {},
     "output_type": "execute_result"
    }
   ],
   "source": [
    "set(df_temp[\"District\"].values) - set(df_backbone[\"District\"].values) "
   ]
  },
  {
   "cell_type": "code",
   "execution_count": 344,
   "metadata": {},
   "outputs": [
    {
     "data": {
      "text/plain": [
       "set()"
      ]
     },
     "execution_count": 344,
     "metadata": {},
     "output_type": "execute_result"
    }
   ],
   "source": [
    "set(df_backbone[\"Year\"].values) - set(df_temp[\"Year\"])"
   ]
  },
  {
   "cell_type": "code",
   "execution_count": 345,
   "metadata": {},
   "outputs": [
    {
     "data": {
      "text/plain": [
       "set()"
      ]
     },
     "execution_count": 345,
     "metadata": {},
     "output_type": "execute_result"
    }
   ],
   "source": [
    "set(df_temp[\"Year\"]) - set(df_backbone[\"Year\"].values)"
   ]
  },
  {
   "cell_type": "code",
   "execution_count": 346,
   "metadata": {},
   "outputs": [],
   "source": [
    "df_backbone_one = df_backbone.merge(df_temp, on=[\"District\", \"Year\"], how=\"outer\")"
   ]
  },
  {
   "cell_type": "code",
   "execution_count": 347,
   "metadata": {},
   "outputs": [
    {
     "name": "stdout",
     "output_type": "stream",
     "text": [
      "<class 'pandas.core.frame.DataFrame'>\n",
      "RangeIndex: 896 entries, 0 to 895\n",
      "Data columns (total 8 columns):\n",
      " #   Column                Non-Null Count  Dtype  \n",
      "---  ------                --------------  -----  \n",
      " 0   Crop                  896 non-null    object \n",
      " 1   District              896 non-null    object \n",
      " 2   Year                  896 non-null    int64  \n",
      " 3   Season                896 non-null    object \n",
      " 4   Area(Hectare)         896 non-null    int64  \n",
      " 5   Production(Tonne)     896 non-null    float64\n",
      " 6   Yield(Tonne/Hectare)  896 non-null    float64\n",
      " 7   Annual_Temp           896 non-null    float64\n",
      "dtypes: float64(3), int64(2), object(3)\n",
      "memory usage: 56.1+ KB\n"
     ]
    }
   ],
   "source": [
    "df_backbone_one.info()"
   ]
  },
  {
   "cell_type": "code",
   "execution_count": 348,
   "metadata": {},
   "outputs": [
    {
     "data": {
      "text/plain": [
       "array(['srikakulam', 'visakhapatanam', 'east_godavari', 'west_godavari',\n",
       "       'krishna', 'guntur', 'spsr_nellore', 'kurnool', 'anantapur',\n",
       "       'kadapa', 'chittoor'], dtype=object)"
      ]
     },
     "execution_count": 348,
     "metadata": {},
     "output_type": "execute_result"
    }
   ],
   "source": [
    "df_fertilizer[\"District\"].unique()"
   ]
  },
  {
   "cell_type": "code",
   "execution_count": 349,
   "metadata": {},
   "outputs": [
    {
     "data": {
      "text/plain": [
       "set()"
      ]
     },
     "execution_count": 349,
     "metadata": {},
     "output_type": "execute_result"
    }
   ],
   "source": [
    "set(df_fertilizer[\"District\"]) - set(df_backbone_one[\"District\"])"
   ]
  },
  {
   "cell_type": "code",
   "execution_count": 350,
   "metadata": {},
   "outputs": [
    {
     "data": {
      "text/plain": [
       "{'prakasam', 'vizianagaram'}"
      ]
     },
     "execution_count": 350,
     "metadata": {},
     "output_type": "execute_result"
    }
   ],
   "source": [
    "set(df_backbone_one[\"District\"]) - set(df_fertilizer[\"District\"])"
   ]
  },
  {
   "cell_type": "code",
   "execution_count": 351,
   "metadata": {},
   "outputs": [
    {
     "data": {
      "text/plain": [
       "set()"
      ]
     },
     "execution_count": 351,
     "metadata": {},
     "output_type": "execute_result"
    }
   ],
   "source": [
    "set(df_fertilizer[\"Year\"]) - set(df_backbone_one[\"Year\"])"
   ]
  },
  {
   "cell_type": "code",
   "execution_count": 352,
   "metadata": {},
   "outputs": [
    {
     "data": {
      "text/plain": [
       "set()"
      ]
     },
     "execution_count": 352,
     "metadata": {},
     "output_type": "execute_result"
    }
   ],
   "source": [
    "set(df_backbone_one[\"Year\"]) - set(df_fertilizer[\"Year\"])"
   ]
  },
  {
   "cell_type": "code",
   "execution_count": 353,
   "metadata": {},
   "outputs": [
    {
     "data": {
      "text/html": [
       "<div>\n",
       "<style scoped>\n",
       "    .dataframe tbody tr th:only-of-type {\n",
       "        vertical-align: middle;\n",
       "    }\n",
       "\n",
       "    .dataframe tbody tr th {\n",
       "        vertical-align: top;\n",
       "    }\n",
       "\n",
       "    .dataframe thead th {\n",
       "        text-align: right;\n",
       "    }\n",
       "</style>\n",
       "<table border=\"1\" class=\"dataframe\">\n",
       "  <thead>\n",
       "    <tr style=\"text-align: right;\">\n",
       "      <th></th>\n",
       "      <th>Dist_Code</th>\n",
       "      <th>Year</th>\n",
       "      <th>State_Code</th>\n",
       "      <th>State_Name</th>\n",
       "      <th>District</th>\n",
       "      <th>Fertilizer(KG_per_hectare)</th>\n",
       "    </tr>\n",
       "  </thead>\n",
       "  <tbody>\n",
       "    <tr>\n",
       "      <th>0</th>\n",
       "      <td>44</td>\n",
       "      <td>2014</td>\n",
       "      <td>1</td>\n",
       "      <td>Andhra Pradesh</td>\n",
       "      <td>srikakulam</td>\n",
       "      <td>183.22</td>\n",
       "    </tr>\n",
       "    <tr>\n",
       "      <th>1</th>\n",
       "      <td>44</td>\n",
       "      <td>2015</td>\n",
       "      <td>1</td>\n",
       "      <td>Andhra Pradesh</td>\n",
       "      <td>srikakulam</td>\n",
       "      <td>167.77</td>\n",
       "    </tr>\n",
       "    <tr>\n",
       "      <th>2</th>\n",
       "      <td>44</td>\n",
       "      <td>2016</td>\n",
       "      <td>1</td>\n",
       "      <td>Andhra Pradesh</td>\n",
       "      <td>srikakulam</td>\n",
       "      <td>168.19</td>\n",
       "    </tr>\n",
       "    <tr>\n",
       "      <th>3</th>\n",
       "      <td>44</td>\n",
       "      <td>2017</td>\n",
       "      <td>1</td>\n",
       "      <td>Andhra Pradesh</td>\n",
       "      <td>srikakulam</td>\n",
       "      <td>174.21</td>\n",
       "    </tr>\n",
       "    <tr>\n",
       "      <th>4</th>\n",
       "      <td>44</td>\n",
       "      <td>2018</td>\n",
       "      <td>1</td>\n",
       "      <td>Andhra Pradesh</td>\n",
       "      <td>srikakulam</td>\n",
       "      <td>187.29</td>\n",
       "    </tr>\n",
       "  </tbody>\n",
       "</table>\n",
       "</div>"
      ],
      "text/plain": [
       "   Dist_Code  Year  State_Code      State_Name    District  \\\n",
       "0         44  2014           1  Andhra Pradesh  srikakulam   \n",
       "1         44  2015           1  Andhra Pradesh  srikakulam   \n",
       "2         44  2016           1  Andhra Pradesh  srikakulam   \n",
       "3         44  2017           1  Andhra Pradesh  srikakulam   \n",
       "4         44  2018           1  Andhra Pradesh  srikakulam   \n",
       "\n",
       "   Fertilizer(KG_per_hectare)  \n",
       "0                      183.22  \n",
       "1                      167.77  \n",
       "2                      168.19  \n",
       "3                      174.21  \n",
       "4                      187.29  "
      ]
     },
     "execution_count": 353,
     "metadata": {},
     "output_type": "execute_result"
    }
   ],
   "source": [
    "df_fertilizer.head()"
   ]
  },
  {
   "cell_type": "code",
   "execution_count": 354,
   "metadata": {},
   "outputs": [],
   "source": [
    "df_backbone_two = df_backbone_one.merge(right = df_fertilizer[[\"Year\",\"District\", \"Fertilizer(KG_per_hectare)\"]], on=[\"Year\",\"District\"], how=\"outer\")"
   ]
  },
  {
   "cell_type": "code",
   "execution_count": 355,
   "metadata": {},
   "outputs": [
    {
     "name": "stdout",
     "output_type": "stream",
     "text": [
      "<class 'pandas.core.frame.DataFrame'>\n",
      "RangeIndex: 896 entries, 0 to 895\n",
      "Data columns (total 9 columns):\n",
      " #   Column                      Non-Null Count  Dtype  \n",
      "---  ------                      --------------  -----  \n",
      " 0   Crop                        896 non-null    object \n",
      " 1   District                    896 non-null    object \n",
      " 2   Year                        896 non-null    int64  \n",
      " 3   Season                      896 non-null    object \n",
      " 4   Area(Hectare)               896 non-null    int64  \n",
      " 5   Production(Tonne)           896 non-null    float64\n",
      " 6   Yield(Tonne/Hectare)        896 non-null    float64\n",
      " 7   Annual_Temp                 896 non-null    float64\n",
      " 8   Fertilizer(KG_per_hectare)  750 non-null    float64\n",
      "dtypes: float64(4), int64(2), object(3)\n",
      "memory usage: 63.1+ KB\n"
     ]
    }
   ],
   "source": [
    "df_backbone_two.info()"
   ]
  },
  {
   "cell_type": "code",
   "execution_count": 356,
   "metadata": {},
   "outputs": [
    {
     "data": {
      "text/html": [
       "<div>\n",
       "<style scoped>\n",
       "    .dataframe tbody tr th:only-of-type {\n",
       "        vertical-align: middle;\n",
       "    }\n",
       "\n",
       "    .dataframe tbody tr th {\n",
       "        vertical-align: top;\n",
       "    }\n",
       "\n",
       "    .dataframe thead th {\n",
       "        text-align: right;\n",
       "    }\n",
       "</style>\n",
       "<table border=\"1\" class=\"dataframe\">\n",
       "  <thead>\n",
       "    <tr style=\"text-align: right;\">\n",
       "      <th></th>\n",
       "      <th>Crop</th>\n",
       "      <th>District</th>\n",
       "      <th>Year</th>\n",
       "      <th>Season</th>\n",
       "      <th>Area(Hectare)</th>\n",
       "      <th>Production(Tonne)</th>\n",
       "      <th>Yield(Tonne/Hectare)</th>\n",
       "      <th>Annual_Temp</th>\n",
       "      <th>Fertilizer(KG_per_hectare)</th>\n",
       "    </tr>\n",
       "  </thead>\n",
       "  <tbody>\n",
       "    <tr>\n",
       "      <th>0</th>\n",
       "      <td>bajra</td>\n",
       "      <td>anantapur</td>\n",
       "      <td>2014</td>\n",
       "      <td>kharif</td>\n",
       "      <td>1752</td>\n",
       "      <td>1028.0</td>\n",
       "      <td>0.59</td>\n",
       "      <td>30.5</td>\n",
       "      <td>115.13</td>\n",
       "    </tr>\n",
       "    <tr>\n",
       "      <th>1</th>\n",
       "      <td>cotton</td>\n",
       "      <td>anantapur</td>\n",
       "      <td>2014</td>\n",
       "      <td>kharif</td>\n",
       "      <td>73734</td>\n",
       "      <td>103779.0</td>\n",
       "      <td>1.41</td>\n",
       "      <td>30.5</td>\n",
       "      <td>115.13</td>\n",
       "    </tr>\n",
       "    <tr>\n",
       "      <th>2</th>\n",
       "      <td>groundnut</td>\n",
       "      <td>anantapur</td>\n",
       "      <td>2014</td>\n",
       "      <td>kharif</td>\n",
       "      <td>550794</td>\n",
       "      <td>148714.0</td>\n",
       "      <td>0.27</td>\n",
       "      <td>30.5</td>\n",
       "      <td>115.13</td>\n",
       "    </tr>\n",
       "    <tr>\n",
       "      <th>3</th>\n",
       "      <td>groundnut</td>\n",
       "      <td>anantapur</td>\n",
       "      <td>2014</td>\n",
       "      <td>kharif</td>\n",
       "      <td>122578</td>\n",
       "      <td>72811.0</td>\n",
       "      <td>0.59</td>\n",
       "      <td>30.5</td>\n",
       "      <td>115.13</td>\n",
       "    </tr>\n",
       "    <tr>\n",
       "      <th>4</th>\n",
       "      <td>maize</td>\n",
       "      <td>anantapur</td>\n",
       "      <td>2014</td>\n",
       "      <td>kharif</td>\n",
       "      <td>16839</td>\n",
       "      <td>42687.0</td>\n",
       "      <td>2.54</td>\n",
       "      <td>30.5</td>\n",
       "      <td>115.13</td>\n",
       "    </tr>\n",
       "  </tbody>\n",
       "</table>\n",
       "</div>"
      ],
      "text/plain": [
       "        Crop   District  Year  Season  Area(Hectare)  Production(Tonne)  \\\n",
       "0      bajra  anantapur  2014  kharif           1752             1028.0   \n",
       "1     cotton  anantapur  2014  kharif          73734           103779.0   \n",
       "2  groundnut  anantapur  2014  kharif         550794           148714.0   \n",
       "3  groundnut  anantapur  2014  kharif         122578            72811.0   \n",
       "4      maize  anantapur  2014  kharif          16839            42687.0   \n",
       "\n",
       "   Yield(Tonne/Hectare)  Annual_Temp  Fertilizer(KG_per_hectare)  \n",
       "0                  0.59         30.5                      115.13  \n",
       "1                  1.41         30.5                      115.13  \n",
       "2                  0.27         30.5                      115.13  \n",
       "3                  0.59         30.5                      115.13  \n",
       "4                  2.54         30.5                      115.13  "
      ]
     },
     "execution_count": 356,
     "metadata": {},
     "output_type": "execute_result"
    }
   ],
   "source": [
    "df_backbone_two.head()"
   ]
  },
  {
   "cell_type": "code",
   "execution_count": 357,
   "metadata": {},
   "outputs": [
    {
     "name": "stdout",
     "output_type": "stream",
     "text": [
      "<class 'pandas.core.frame.DataFrame'>\n",
      "RangeIndex: 896 entries, 0 to 895\n",
      "Data columns (total 9 columns):\n",
      " #   Column                      Non-Null Count  Dtype  \n",
      "---  ------                      --------------  -----  \n",
      " 0   Crop                        896 non-null    object \n",
      " 1   District                    896 non-null    object \n",
      " 2   Year                        896 non-null    int64  \n",
      " 3   Season                      896 non-null    object \n",
      " 4   Area(Hectare)               896 non-null    int64  \n",
      " 5   Production(Tonne)           896 non-null    float64\n",
      " 6   Yield(Tonne/Hectare)        896 non-null    float64\n",
      " 7   Annual_Temp                 896 non-null    float64\n",
      " 8   Fertilizer(KG_per_hectare)  750 non-null    float64\n",
      "dtypes: float64(4), int64(2), object(3)\n",
      "memory usage: 63.1+ KB\n"
     ]
    }
   ],
   "source": [
    "df_backbone_two.info()"
   ]
  },
  {
   "cell_type": "code",
   "execution_count": 360,
   "metadata": {},
   "outputs": [
    {
     "data": {
      "text/plain": [
       "array(['srikakulam', 'visakhapatanam', 'east_godavari', 'west_godavari',\n",
       "       'krishna', 'guntur', 'spsr_nellore', 'kurnool', 'anantapur',\n",
       "       'kadapa', 'chittoor'], dtype=object)"
      ]
     },
     "execution_count": 360,
     "metadata": {},
     "output_type": "execute_result"
    }
   ],
   "source": [
    "df_rainfall[\"District\"].unique()"
   ]
  },
  {
   "cell_type": "code",
   "execution_count": 366,
   "metadata": {},
   "outputs": [
    {
     "name": "stdout",
     "output_type": "stream",
     "text": [
      "<class 'pandas.core.frame.DataFrame'>\n",
      "RangeIndex: 77 entries, 0 to 76\n",
      "Data columns (total 6 columns):\n",
      " #   Column                        Non-Null Count  Dtype  \n",
      "---  ------                        --------------  -----  \n",
      " 0   Dist Code                     77 non-null     int64  \n",
      " 1   Year                          77 non-null     int64  \n",
      " 2   State Code                    77 non-null     int64  \n",
      " 3   State Name                    77 non-null     object \n",
      " 4   District                      77 non-null     object \n",
      " 5   ANNUAL_RAINFALL(Millimeters)  77 non-null     float64\n",
      "dtypes: float64(1), int64(3), object(2)\n",
      "memory usage: 3.7+ KB\n"
     ]
    }
   ],
   "source": [
    "df_rainfall.info()"
   ]
  },
  {
   "cell_type": "code",
   "execution_count": 361,
   "metadata": {},
   "outputs": [
    {
     "data": {
      "text/plain": [
       "{'prakasam', 'vizianagaram'}"
      ]
     },
     "execution_count": 361,
     "metadata": {},
     "output_type": "execute_result"
    }
   ],
   "source": [
    "set(df_backbone_two[\"District\"].unique()) - set(df_rainfall[\"District\"].unique())"
   ]
  },
  {
   "cell_type": "code",
   "execution_count": 362,
   "metadata": {},
   "outputs": [
    {
     "data": {
      "text/plain": [
       "set()"
      ]
     },
     "execution_count": 362,
     "metadata": {},
     "output_type": "execute_result"
    }
   ],
   "source": [
    "set(df_rainfall[\"District\"].unique()) - set(df_backbone_two[\"District\"].unique())"
   ]
  },
  {
   "cell_type": "code",
   "execution_count": 368,
   "metadata": {},
   "outputs": [
    {
     "data": {
      "text/plain": [
       "set()"
      ]
     },
     "execution_count": 368,
     "metadata": {},
     "output_type": "execute_result"
    }
   ],
   "source": [
    "set(df_backbone_two[\"Year\"]) - set(df_rainfall[\"Year\"])"
   ]
  },
  {
   "cell_type": "code",
   "execution_count": 369,
   "metadata": {},
   "outputs": [],
   "source": [
    "df_backbone_three = df_backbone_two.merge(right=df_rainfall[[\"Year\", \"District\", \"ANNUAL_RAINFALL(Millimeters)\"]], on=[\"Year\", \"District\"], how=\"outer\")"
   ]
  },
  {
   "cell_type": "code",
   "execution_count": 370,
   "metadata": {},
   "outputs": [
    {
     "name": "stdout",
     "output_type": "stream",
     "text": [
      "<class 'pandas.core.frame.DataFrame'>\n",
      "RangeIndex: 896 entries, 0 to 895\n",
      "Data columns (total 10 columns):\n",
      " #   Column                        Non-Null Count  Dtype  \n",
      "---  ------                        --------------  -----  \n",
      " 0   Crop                          896 non-null    object \n",
      " 1   District                      896 non-null    object \n",
      " 2   Year                          896 non-null    int64  \n",
      " 3   Season                        896 non-null    object \n",
      " 4   Area(Hectare)                 896 non-null    int64  \n",
      " 5   Production(Tonne)             896 non-null    float64\n",
      " 6   Yield(Tonne/Hectare)          896 non-null    float64\n",
      " 7   Annual_Temp                   896 non-null    float64\n",
      " 8   Fertilizer(KG_per_hectare)    750 non-null    float64\n",
      " 9   ANNUAL_RAINFALL(Millimeters)  750 non-null    float64\n",
      "dtypes: float64(5), int64(2), object(3)\n",
      "memory usage: 70.1+ KB\n"
     ]
    }
   ],
   "source": [
    "df_backbone_three.info()"
   ]
  },
  {
   "cell_type": "code",
   "execution_count": 375,
   "metadata": {},
   "outputs": [],
   "source": [
    "df_backbone_three[[\"Fertilizer(KG_per_hectare)\", \"ANNUAL_RAINFALL(Millimeters)\"]] = df_backbone_three[[\"Fertilizer(KG_per_hectare)\", \"ANNUAL_RAINFALL(Millimeters)\"]].fillna(df_backbone_three[[\"Fertilizer(KG_per_hectare)\", \"ANNUAL_RAINFALL(Millimeters)\"]].mean())"
   ]
  },
  {
   "cell_type": "code",
   "execution_count": 377,
   "metadata": {},
   "outputs": [
    {
     "name": "stdout",
     "output_type": "stream",
     "text": [
      "<class 'pandas.core.frame.DataFrame'>\n",
      "RangeIndex: 896 entries, 0 to 895\n",
      "Data columns (total 10 columns):\n",
      " #   Column                        Non-Null Count  Dtype  \n",
      "---  ------                        --------------  -----  \n",
      " 0   Crop                          896 non-null    object \n",
      " 1   District                      896 non-null    object \n",
      " 2   Year                          896 non-null    int64  \n",
      " 3   Season                        896 non-null    object \n",
      " 4   Area(Hectare)                 896 non-null    int64  \n",
      " 5   Production(Tonne)             896 non-null    float64\n",
      " 6   Yield(Tonne/Hectare)          896 non-null    float64\n",
      " 7   Annual_Temp                   896 non-null    float64\n",
      " 8   Fertilizer(KG_per_hectare)    896 non-null    float64\n",
      " 9   ANNUAL_RAINFALL(Millimeters)  896 non-null    float64\n",
      "dtypes: float64(5), int64(2), object(3)\n",
      "memory usage: 70.1+ KB\n"
     ]
    }
   ],
   "source": [
    "df_backbone_three.info()"
   ]
  },
  {
   "cell_type": "code",
   "execution_count": 379,
   "metadata": {},
   "outputs": [
    {
     "data": {
      "text/html": [
       "<div>\n",
       "<style scoped>\n",
       "    .dataframe tbody tr th:only-of-type {\n",
       "        vertical-align: middle;\n",
       "    }\n",
       "\n",
       "    .dataframe tbody tr th {\n",
       "        vertical-align: top;\n",
       "    }\n",
       "\n",
       "    .dataframe thead th {\n",
       "        text-align: right;\n",
       "    }\n",
       "</style>\n",
       "<table border=\"1\" class=\"dataframe\">\n",
       "  <thead>\n",
       "    <tr style=\"text-align: right;\">\n",
       "      <th></th>\n",
       "      <th>Crop</th>\n",
       "      <th>District</th>\n",
       "      <th>Year</th>\n",
       "      <th>Season</th>\n",
       "      <th>Area(Hectare)</th>\n",
       "      <th>Production(Tonne)</th>\n",
       "      <th>Yield(Tonne/Hectare)</th>\n",
       "      <th>Annual_Temp</th>\n",
       "      <th>Fertilizer(KG_per_hectare)</th>\n",
       "      <th>ANNUAL_RAINFALL(Millimeters)</th>\n",
       "    </tr>\n",
       "  </thead>\n",
       "  <tbody>\n",
       "    <tr>\n",
       "      <th>0</th>\n",
       "      <td>bajra</td>\n",
       "      <td>anantapur</td>\n",
       "      <td>2014</td>\n",
       "      <td>kharif</td>\n",
       "      <td>1752</td>\n",
       "      <td>1028.0</td>\n",
       "      <td>0.59</td>\n",
       "      <td>30.5</td>\n",
       "      <td>115.13</td>\n",
       "      <td>575.0</td>\n",
       "    </tr>\n",
       "    <tr>\n",
       "      <th>1</th>\n",
       "      <td>cotton</td>\n",
       "      <td>anantapur</td>\n",
       "      <td>2014</td>\n",
       "      <td>kharif</td>\n",
       "      <td>73734</td>\n",
       "      <td>103779.0</td>\n",
       "      <td>1.41</td>\n",
       "      <td>30.5</td>\n",
       "      <td>115.13</td>\n",
       "      <td>575.0</td>\n",
       "    </tr>\n",
       "    <tr>\n",
       "      <th>2</th>\n",
       "      <td>groundnut</td>\n",
       "      <td>anantapur</td>\n",
       "      <td>2014</td>\n",
       "      <td>kharif</td>\n",
       "      <td>550794</td>\n",
       "      <td>148714.0</td>\n",
       "      <td>0.27</td>\n",
       "      <td>30.5</td>\n",
       "      <td>115.13</td>\n",
       "      <td>575.0</td>\n",
       "    </tr>\n",
       "    <tr>\n",
       "      <th>3</th>\n",
       "      <td>groundnut</td>\n",
       "      <td>anantapur</td>\n",
       "      <td>2014</td>\n",
       "      <td>kharif</td>\n",
       "      <td>122578</td>\n",
       "      <td>72811.0</td>\n",
       "      <td>0.59</td>\n",
       "      <td>30.5</td>\n",
       "      <td>115.13</td>\n",
       "      <td>575.0</td>\n",
       "    </tr>\n",
       "    <tr>\n",
       "      <th>4</th>\n",
       "      <td>maize</td>\n",
       "      <td>anantapur</td>\n",
       "      <td>2014</td>\n",
       "      <td>kharif</td>\n",
       "      <td>16839</td>\n",
       "      <td>42687.0</td>\n",
       "      <td>2.54</td>\n",
       "      <td>30.5</td>\n",
       "      <td>115.13</td>\n",
       "      <td>575.0</td>\n",
       "    </tr>\n",
       "  </tbody>\n",
       "</table>\n",
       "</div>"
      ],
      "text/plain": [
       "        Crop   District  Year  Season  Area(Hectare)  Production(Tonne)  \\\n",
       "0      bajra  anantapur  2014  kharif           1752             1028.0   \n",
       "1     cotton  anantapur  2014  kharif          73734           103779.0   \n",
       "2  groundnut  anantapur  2014  kharif         550794           148714.0   \n",
       "3  groundnut  anantapur  2014  kharif         122578            72811.0   \n",
       "4      maize  anantapur  2014  kharif          16839            42687.0   \n",
       "\n",
       "   Yield(Tonne/Hectare)  Annual_Temp  Fertilizer(KG_per_hectare)  \\\n",
       "0                  0.59         30.5                      115.13   \n",
       "1                  1.41         30.5                      115.13   \n",
       "2                  0.27         30.5                      115.13   \n",
       "3                  0.59         30.5                      115.13   \n",
       "4                  2.54         30.5                      115.13   \n",
       "\n",
       "   ANNUAL_RAINFALL(Millimeters)  \n",
       "0                         575.0  \n",
       "1                         575.0  \n",
       "2                         575.0  \n",
       "3                         575.0  \n",
       "4                         575.0  "
      ]
     },
     "execution_count": 379,
     "metadata": {},
     "output_type": "execute_result"
    }
   ],
   "source": [
    "df_backbone_three.head(5)"
   ]
  },
  {
   "cell_type": "code",
   "execution_count": 380,
   "metadata": {},
   "outputs": [],
   "source": [
    "df_backbone_three.to_csv(\"CleanedData/final_data.csv\", index=False)"
   ]
  },
  {
   "cell_type": "code",
   "execution_count": 381,
   "metadata": {},
   "outputs": [],
   "source": [
    "df = pd.read_csv(\"CleanedData/final_data.csv\")"
   ]
  },
  {
   "cell_type": "code",
   "execution_count": 382,
   "metadata": {},
   "outputs": [
    {
     "data": {
      "text/html": [
       "<div>\n",
       "<style scoped>\n",
       "    .dataframe tbody tr th:only-of-type {\n",
       "        vertical-align: middle;\n",
       "    }\n",
       "\n",
       "    .dataframe tbody tr th {\n",
       "        vertical-align: top;\n",
       "    }\n",
       "\n",
       "    .dataframe thead th {\n",
       "        text-align: right;\n",
       "    }\n",
       "</style>\n",
       "<table border=\"1\" class=\"dataframe\">\n",
       "  <thead>\n",
       "    <tr style=\"text-align: right;\">\n",
       "      <th></th>\n",
       "      <th>Crop</th>\n",
       "      <th>District</th>\n",
       "      <th>Year</th>\n",
       "      <th>Season</th>\n",
       "      <th>Area(Hectare)</th>\n",
       "      <th>Production(Tonne)</th>\n",
       "      <th>Yield(Tonne/Hectare)</th>\n",
       "      <th>Annual_Temp</th>\n",
       "      <th>Fertilizer(KG_per_hectare)</th>\n",
       "      <th>ANNUAL_RAINFALL(Millimeters)</th>\n",
       "    </tr>\n",
       "  </thead>\n",
       "  <tbody>\n",
       "    <tr>\n",
       "      <th>0</th>\n",
       "      <td>bajra</td>\n",
       "      <td>anantapur</td>\n",
       "      <td>2014</td>\n",
       "      <td>kharif</td>\n",
       "      <td>1752</td>\n",
       "      <td>1028.0</td>\n",
       "      <td>0.59</td>\n",
       "      <td>30.5</td>\n",
       "      <td>115.13</td>\n",
       "      <td>575.0</td>\n",
       "    </tr>\n",
       "    <tr>\n",
       "      <th>1</th>\n",
       "      <td>cotton</td>\n",
       "      <td>anantapur</td>\n",
       "      <td>2014</td>\n",
       "      <td>kharif</td>\n",
       "      <td>73734</td>\n",
       "      <td>103779.0</td>\n",
       "      <td>1.41</td>\n",
       "      <td>30.5</td>\n",
       "      <td>115.13</td>\n",
       "      <td>575.0</td>\n",
       "    </tr>\n",
       "    <tr>\n",
       "      <th>2</th>\n",
       "      <td>groundnut</td>\n",
       "      <td>anantapur</td>\n",
       "      <td>2014</td>\n",
       "      <td>kharif</td>\n",
       "      <td>550794</td>\n",
       "      <td>148714.0</td>\n",
       "      <td>0.27</td>\n",
       "      <td>30.5</td>\n",
       "      <td>115.13</td>\n",
       "      <td>575.0</td>\n",
       "    </tr>\n",
       "    <tr>\n",
       "      <th>3</th>\n",
       "      <td>groundnut</td>\n",
       "      <td>anantapur</td>\n",
       "      <td>2014</td>\n",
       "      <td>kharif</td>\n",
       "      <td>122578</td>\n",
       "      <td>72811.0</td>\n",
       "      <td>0.59</td>\n",
       "      <td>30.5</td>\n",
       "      <td>115.13</td>\n",
       "      <td>575.0</td>\n",
       "    </tr>\n",
       "    <tr>\n",
       "      <th>4</th>\n",
       "      <td>maize</td>\n",
       "      <td>anantapur</td>\n",
       "      <td>2014</td>\n",
       "      <td>kharif</td>\n",
       "      <td>16839</td>\n",
       "      <td>42687.0</td>\n",
       "      <td>2.54</td>\n",
       "      <td>30.5</td>\n",
       "      <td>115.13</td>\n",
       "      <td>575.0</td>\n",
       "    </tr>\n",
       "  </tbody>\n",
       "</table>\n",
       "</div>"
      ],
      "text/plain": [
       "        Crop   District  Year  Season  Area(Hectare)  Production(Tonne)  \\\n",
       "0      bajra  anantapur  2014  kharif           1752             1028.0   \n",
       "1     cotton  anantapur  2014  kharif          73734           103779.0   \n",
       "2  groundnut  anantapur  2014  kharif         550794           148714.0   \n",
       "3  groundnut  anantapur  2014  kharif         122578            72811.0   \n",
       "4      maize  anantapur  2014  kharif          16839            42687.0   \n",
       "\n",
       "   Yield(Tonne/Hectare)  Annual_Temp  Fertilizer(KG_per_hectare)  \\\n",
       "0                  0.59         30.5                      115.13   \n",
       "1                  1.41         30.5                      115.13   \n",
       "2                  0.27         30.5                      115.13   \n",
       "3                  0.59         30.5                      115.13   \n",
       "4                  2.54         30.5                      115.13   \n",
       "\n",
       "   ANNUAL_RAINFALL(Millimeters)  \n",
       "0                         575.0  \n",
       "1                         575.0  \n",
       "2                         575.0  \n",
       "3                         575.0  \n",
       "4                         575.0  "
      ]
     },
     "execution_count": 382,
     "metadata": {},
     "output_type": "execute_result"
    }
   ],
   "source": [
    "df.head()"
   ]
  },
  {
   "cell_type": "code",
   "execution_count": null,
   "metadata": {},
   "outputs": [],
   "source": []
  }
 ],
 "metadata": {
  "kernelspec": {
   "display_name": "base",
   "language": "python",
   "name": "python3"
  },
  "language_info": {
   "codemirror_mode": {
    "name": "ipython",
    "version": 3
   },
   "file_extension": ".py",
   "mimetype": "text/x-python",
   "name": "python",
   "nbconvert_exporter": "python",
   "pygments_lexer": "ipython3",
   "version": "3.12.2"
  }
 },
 "nbformat": 4,
 "nbformat_minor": 2
}
